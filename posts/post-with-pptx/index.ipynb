{
  "cells": [
    {
      "cell_type": "raw",
      "metadata": {},
      "source": [
        "---\n",
        "title: \"Post With pptx\"\n",
        "author: \"Jacob Holmes\"\n",
        "date: \"2023-01-25\"\n",
        "categories: [news, code, analysis, pptx]\n",
        "image: \"image.jpg\"\n",
        "---"
      ],
      "id": "ef73879d"
    },
    {
      "cell_type": "markdown",
      "metadata": {},
      "source": [
        "This is a post with a PowerPoint.\n",
        "\n",
        "\n",
        "```{pptx}\n",
        "<iframe \n",
        "  width=\"800\" \n",
        "  height=\"800\" \n",
        "  src=\"ASRI Election Results Presentation.pptx\">\n",
        "</iframe>\n",
        "```"
      ],
      "id": "1c06bba8"
    }
  ],
  "metadata": {
    "kernelspec": {
      "display_name": "Python 3",
      "language": "python",
      "name": "python3"
    }
  },
  "nbformat": 4,
  "nbformat_minor": 5
}