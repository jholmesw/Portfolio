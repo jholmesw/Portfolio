{
  "cells": [
    {
      "cell_type": "raw",
      "metadata": {},
      "source": [
        "---\n",
        "title: \"2214 Assignment 1\"\n",
        "author: \"Jacob Holmes\"\n",
        "date: \"2023-01-26\"\n",
        "categories: [code, analysis, java]\n",
        "image: \"image.jpg\"\n",
        "---"
      ],
      "id": "b9f1f85a"
    },
    {
      "cell_type": "markdown",
      "metadata": {},
      "source": [
        "Homework assignment from Fall 2022 INEG 2214.\n",
        "\n",
        "\n",
        "```{js}\n",
        "System.out.println(\"Hello world\");\n",
        "```"
      ],
      "id": "9f8582cc"
    }
  ],
  "metadata": {
    "kernelspec": {
      "display_name": "Python 3",
      "language": "python",
      "name": "python3"
    }
  },
  "nbformat": 4,
  "nbformat_minor": 5
}